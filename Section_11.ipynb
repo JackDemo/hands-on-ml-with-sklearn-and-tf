{
 "cells": [
  {
   "cell_type": "markdown",
   "metadata": {},
   "source": [
    "# 训练深层神经网络"
   ]
  },
  {
   "cell_type": "markdown",
   "metadata": {},
   "source": [
    "1. 梯度消失\n",
    "2. 训练缓慢\n",
    "3. 过拟合"
   ]
  },
  {
   "cell_type": "markdown",
   "metadata": {},
   "source": [
    "### 在梯度消失的问题上：我们需要每层输出的方差等于其输入的方差。\n",
    "### 1. 使用参数初始化技巧"
   ]
  },
  {
   "cell_type": "markdown",
   "metadata": {},
   "source": [
    "![参数初始化](./images/参数初始化.PNG)"
   ]
  },
  {
   "cell_type": "code",
   "execution_count": 1,
   "metadata": {},
   "outputs": [],
   "source": [
    "import tensorflow as tf"
   ]
  },
  {
   "cell_type": "markdown",
   "metadata": {},
   "source": [
    ">he_init = _tf.contrib.layers.variance_scaling_initializer()\n",
    "\n",
    ">hidden1 = tf.layers.dense(X, n_hidden1, activation=tf.nn.relu,kernel_initializer=he_init, name=\"hidden1\")\n"
   ]
  },
  {
   "cell_type": "markdown",
   "metadata": {},
   "source": [
    "### 2. 选取非饱和激活函数 "
   ]
  },
  {
   "cell_type": "markdown",
   "metadata": {},
   "source": [
    "$ LeakyReLU \\alpha(z) = max(az, z)$"
   ]
  },
  {
   "cell_type": "markdown",
   "metadata": {},
   "source": [
    "通常设置a = 0.01  but有时候a=0.2似乎比较好"
   ]
  },
  {
   "cell_type": "markdown",
   "metadata": {},
   "source": [
    "## 选取指数线性单元ELU"
   ]
  },
  {
   "cell_type": "code",
   "execution_count": 2,
   "metadata": {},
   "outputs": [],
   "source": [
    "import matplotlib.pyplot as plt\n",
    "import numpy as np"
   ]
  },
  {
   "cell_type": "code",
   "execution_count": 3,
   "metadata": {},
   "outputs": [],
   "source": [
    "def elu(z, alpha=1):\n",
    "    return np.where(z < 0, alpha * (np.exp(z) - 1), z)"
   ]
  },
  {
   "cell_type": "code",
   "execution_count": 4,
   "metadata": {},
   "outputs": [
    {
     "data": {
      "image/png": "[encoded data removed]",
      "text/plain": [
       "<Figure size 432x288 with 1 Axes>"
      ]
     },
     "metadata": {
      "needs_background": "light"
     },
     "output_type": "display_data"
    }
   ],
   "source": [
    "z = np.linspace(-5, 5, 200)\n",
    "\n",
    "plt.plot(z, elu(z), \"b-\", linewidth=2)\n",
    "plt.plot([-5, 5], [0, 0], 'k-')\n",
    "plt.plot([-5, 5], [-1, -1], 'k--')\n",
    "plt.plot([0, 0], [-2.2, 3.2], 'k-')\n",
    "plt.grid(True)\n",
    "plt.title(r\"ELU activation function ($\\alpha=1$)\", fontsize=14)\n",
    "plt.axis([-5, 5, -2.2, 3.2])\n",
    "\n",
    "#save_fig(\"elu_plot\")\n",
    "plt.show()"
   ]
  },
  {
   "cell_type": "markdown",
   "metadata": {},
   "source": [
    "$ELU_{a} = \\left\\{\\begin{matrix}a(exp(z)-1) & if z<0  \\\\  z & if z\\geq 0 \\end{matrix}\\right.$\n",
    "##### 指数线性单元\n"
   ]
  },
  {
   "cell_type": "markdown",
   "metadata": {},
   "source": [
    "$SELU_{a} =scale * elu(z, alpha)$\n",
    "##### 缩放型指数线性单元"
   ]
  },
  {
   "cell_type": "markdown",
   "metadata": {},
   "source": [
    "理论上首先使用 SELU>ELU> leaky ReLU（及其变体）> ReLU > tanh > sigmoid\n",
    "1. 如果关心运行时性能 ->leak ReLU\n",
    "2. 如果神经网络过拟合->RReLU\n",
    "3. 如果有庞大的训练数据集->PReLU(a被授权在训练过程中学习)"
   ]
  },
  {
   "cell_type": "markdown",
   "metadata": {},
   "source": [
    "## 选取缩放型指数线性单元SELU"
   ]
  },
  {
   "cell_type": "code",
   "execution_count": 5,
   "metadata": {},
   "outputs": [],
   "source": [
    "from scipy.special import erfc\n",
    "\n",
    "# alpha and scale to self normalize with mean 0 and standard deviation 1\n",
    "# (see equation 14 in the paper):\n",
    "alpha_0_1 = -np.sqrt(2 / np.pi) / (erfc(1/np.sqrt(2)) * np.exp(1/2) - 1)\n",
    "scale_0_1 = (1 - erfc(1 / np.sqrt(2)) * np.sqrt(np.e)) * np.sqrt(2 * np.pi) * (2 * erfc(np.sqrt(2))*np.e**2 + np.pi*erfc(1/np.sqrt(2))**2*np.e - 2*(2+np.pi)*erfc(1/np.sqrt(2))*np.sqrt(np.e)+np.pi+2)**(-1/2)\n",
    "def selu(z, scale=scale_0_1, alpha=alpha_0_1):\n",
    "    return scale * elu(z, alpha)"
   ]
  },
  {
   "cell_type": "code",
   "execution_count": 6,
   "metadata": {},
   "outputs": [
    {
     "data": {
      "image/png": "[encoded data removed]",
      "text/plain": [
       "<Figure size 432x288 with 1 Axes>"
      ]
     },
     "metadata": {
      "needs_background": "light"
     },
     "output_type": "display_data"
    }
   ],
   "source": [
    "plt.plot(z, selu(z), \"b-\", linewidth=2)\n",
    "plt.plot([-5, 5], [0, 0], 'k-')\n",
    "plt.plot([-5, 5], [-1.758, -1.758], 'k--')\n",
    "plt.plot([0, 0], [-2.2, 3.2], 'k-')\n",
    "plt.grid(True)\n",
    "plt.title(r\"SELU activation function\", fontsize=14)\n",
    "plt.axis([-5, 5, -2.2, 3.2])\n",
    "\n",
    "#save_fig(\"selu_plot\")\n",
    "plt.show()"
   ]
  },
  {
   "cell_type": "code",
   "execution_count": 7,
   "metadata": {},
   "outputs": [
    {
     "name": "stdout",
     "output_type": "stream",
     "text": [
      "0 Train accuracy: 0.9 Test accuracy: 0.9132\n",
      "1 Train accuracy: 0.94 Test accuracy: 0.9305\n",
      "2 Train accuracy: 0.96 Test accuracy: 0.9372\n",
      "3 Train accuracy: 0.94 Test accuracy: 0.9458\n",
      "4 Train accuracy: 0.98 Test accuracy: 0.9485\n",
      "5 Train accuracy: 0.98 Test accuracy: 0.952\n",
      "6 Train accuracy: 1.0 Test accuracy: 0.9557\n",
      "7 Train accuracy: 0.96 Test accuracy: 0.9579\n",
      "8 Train accuracy: 0.92 Test accuracy: 0.9601\n",
      "9 Train accuracy: 0.96 Test accuracy: 0.9607\n",
      "10 Train accuracy: 0.98 Test accuracy: 0.9641\n",
      "11 Train accuracy: 0.98 Test accuracy: 0.9657\n",
      "12 Train accuracy: 0.98 Test accuracy: 0.9662\n",
      "13 Train accuracy: 0.98 Test accuracy: 0.9677\n",
      "14 Train accuracy: 0.94 Test accuracy: 0.9683\n",
      "15 Train accuracy: 0.98 Test accuracy: 0.9697\n",
      "16 Train accuracy: 0.98 Test accuracy: 0.9702\n",
      "17 Train accuracy: 1.0 Test accuracy: 0.9706\n",
      "18 Train accuracy: 1.0 Test accuracy: 0.9719\n",
      "19 Train accuracy: 1.0 Test accuracy: 0.9718\n",
      "20 Train accuracy: 0.98 Test accuracy: 0.9722\n",
      "21 Train accuracy: 0.98 Test accuracy: 0.9738\n",
      "22 Train accuracy: 0.98 Test accuracy: 0.9741\n",
      "23 Train accuracy: 1.0 Test accuracy: 0.9732\n",
      "24 Train accuracy: 0.98 Test accuracy: 0.9747\n",
      "25 Train accuracy: 1.0 Test accuracy: 0.9749\n",
      "26 Train accuracy: 1.0 Test accuracy: 0.9748\n",
      "27 Train accuracy: 1.0 Test accuracy: 0.9747\n",
      "28 Train accuracy: 0.96 Test accuracy: 0.9751\n",
      "29 Train accuracy: 0.98 Test accuracy: 0.9745\n",
      "30 Train accuracy: 1.0 Test accuracy: 0.9754\n",
      "31 Train accuracy: 1.0 Test accuracy: 0.976\n",
      "32 Train accuracy: 1.0 Test accuracy: 0.9764\n",
      "33 Train accuracy: 0.98 Test accuracy: 0.9763\n",
      "34 Train accuracy: 1.0 Test accuracy: 0.9769\n",
      "35 Train accuracy: 1.0 Test accuracy: 0.9768\n",
      "36 Train accuracy: 1.0 Test accuracy: 0.9769\n",
      "37 Train accuracy: 1.0 Test accuracy: 0.9771\n",
      "38 Train accuracy: 1.0 Test accuracy: 0.9768\n",
      "39 Train accuracy: 1.0 Test accuracy: 0.9767\n",
      "INFO:tensorflow:Restoring parameters from ./tmp/my_model_final.ckpt\n",
      "Predicted classes: [7 2 1 0 4 1 4 9 5 9 0 6 9 0 1 5 9 7 3 4]\n",
      "Actual classes:    [7 2 1 0 4 1 4 9 5 9 0 6 9 0 1 5 9 7 3 4]\n"
     ]
    }
   ],
   "source": [
    "import tensorflow as tf\n",
    "n_inputs = 28*28\n",
    "n_hidden1 = 300\n",
    "n_hidden2 = 100\n",
    "n_outputs = 10\n",
    "\n",
    "tf.reset_default_graph()\n",
    "\n",
    "X = tf.placeholder(tf.float32,shape=(None,n_inputs),name=\"X\")\n",
    "y= tf.placeholder(tf.int64,shape=(None),name=\"y\")\n",
    "\n",
    "def neuron_layer(X,n_neuron,name,activation=None):\n",
    "    with tf.name_scope(name):\n",
    "        n_inputs = int(X.get_shape()[1])\n",
    "        stddev = 2/np.sqrt(n_inputs)\n",
    "        init = tf.truncated_normal((n_inputs,n_neuron),stddev=stddev)\n",
    "        w = tf.Variable(init,name=\"wegihts\")\n",
    "        b = tf.Variable(tf.zeros([n_neuron]),name=\"biases\")\n",
    "        z = tf.matmul(X,w)+b\n",
    "        if activation == \"relu\":\n",
    "            return tf.nn.relu(z)\n",
    "        else:\n",
    "            return z\n",
    "\n",
    "from datetime import datetime\n",
    "now = datetime.utcnow().strftime(\"%Y%m%d%H%M%S\")\n",
    "root_logdir = \"tf_logs\"\n",
    "logdir = \"{}/run-{}/\".format(root_logdir, now)\n",
    "\n",
    "with tf.name_scope(\"dnn\"):\n",
    "    hidden1 = neuron_layer(X,n_hidden1,\"hidden1\",activation=\"relu\")\n",
    "    hidden2 = neuron_layer(hidden1,n_hidden2,\"hidden2\",activation=\"relu\")\n",
    "    logits = neuron_layer(hidden2,n_outputs,\"output\")\n",
    "\n",
    "with tf.name_scope(\"loss\"):\n",
    "    xentropy = tf.nn.sparse_softmax_cross_entropy_with_logits(labels=y,logits=logits)\n",
    "    loss = tf.reduce_mean(xentropy,name=\"loss\")\n",
    "\n",
    "\n",
    "\n",
    "learning_rate = 0.01\n",
    "\n",
    "with tf.name_scope(\"train\"):\n",
    "    optimizer = tf.train.GradientDescentOptimizer(learning_rate)\n",
    "    training_op = optimizer.minimize(loss)\n",
    "\n",
    "with tf.name_scope(\"eval\"):\n",
    "    correct = tf.nn.in_top_k(logits, y, 1)\n",
    "    accuracy = tf.reduce_mean(tf.cast(correct, tf.float32))\n",
    "\n",
    "init = tf.global_variables_initializer()\n",
    "saver = tf.train.Saver()\n",
    "\n",
    "accuracy_summary = tf.summary.scalar('accuracy', accuracy)\n",
    "loss_summary = tf.summary.scalar('loss', loss)\n",
    "file_writer = tf.summary.FileWriter(logdir, tf.get_default_graph())\n",
    "\n",
    "# 执行阶段\n",
    "\n",
    "(X_train, y_train), (X_test, y_test) = tf.keras.datasets.mnist.load_data()\n",
    "X_train = X_train.astype(np.float32).reshape(-1, 28*28) / 255.0\n",
    "X_test = X_test.astype(np.float32).reshape(-1, 28*28) / 255.0\n",
    "y_train = y_train.astype(np.int32)\n",
    "y_test = y_test.astype(np.int32)\n",
    "X_valid, X_train = X_train[:5000], X_train[5000:]\n",
    "y_valid, y_train = y_train[:5000], y_train[5000:]\n",
    "\n",
    "n_epochs = 40\n",
    "batch_size = 50\n",
    "n_batches = len(X_train)//batch_size\n",
    "\n",
    "def shuffle_data(X,y,epoch,batch_size,batch_index):\n",
    "    np.random.seed(epoch*n_batches + batch_index)\n",
    "    random_index = np.random.randint(len(X_train),size=batch_size)\n",
    "    X_batch = X[random_index]\n",
    "    y_batch = y[random_index]\n",
    "    return X_batch,y_batch\n",
    "\n",
    "with tf.Session() as sess:\n",
    "    init.run()\n",
    "    for epoch in range(n_epochs):\n",
    "        for batch_index in range(n_batches):\n",
    "            X_batch,y_batch = shuffle_data(X_train,y_train,epoch,batch_size,batch_index)\n",
    "            sess.run(training_op,feed_dict={X:X_batch,y:y_batch})\n",
    "            if batch_index % 10 == 0:\n",
    "                summary_str = loss_summary.eval(feed_dict={X: X_batch, y: y_batch})\n",
    "                step = epoch * n_batches + batch_index\n",
    "                file_writer.add_summary(summary_str, step)\n",
    "        summary_str = accuracy_summary.eval(feed_dict={X: X_batch, y: y_batch})\n",
    "        step = epoch\n",
    "        file_writer.add_summary(summary_str, step)\n",
    "        acc_train = accuracy.eval(feed_dict={X:X_batch,y:y_batch})\n",
    "        acc_test = accuracy.eval(feed_dict={X: X_test,y:y_test})\n",
    "        file_writer.add_summary(accuracy_summary.eval(feed_dict={X: X_test,y:y_test}), step)\n",
    "        print(epoch, \"Train accuracy:\", acc_train, \"Test accuracy:\", acc_test)\n",
    "    save_path = saver.save(sess, \"./tmp/my_model_final.ckpt\")\n",
    "file_writer.close()\n",
    "\n",
    "with tf.Session() as sess:\n",
    "    saver.restore(sess, \"./tmp/my_model_final.ckpt\") # or better, use save_path\n",
    "    X_new_scaled = X_test[:20]\n",
    "    Z = logits.eval(feed_dict={X: X_new_scaled})\n",
    "    y_pred = np.argmax(Z, axis=1)                 \n",
    "\n",
    "print(\"Predicted classes:\", y_pred)\n",
    "print(\"Actual classes:   \", y_test[:20])"
   ]
  },
  {
   "cell_type": "markdown",
   "metadata": {},
   "source": [
    "# 批量标准化BN"
   ]
  },
  {
   "cell_type": "markdown",
   "metadata": {},
   "source": [
    "1. 每层的激活函数之前在模型中添加操作\n",
    "2. 简单地对输入进行zero-centering和规范化，然后每层使用4个新参数（一个用于尺度变换，另一个用于偏移）对结果进行尺度变换和偏移  在测试时，使用整个训练集的均值和标准差"
   ]
  },
  {
   "cell_type": "code",
   "execution_count": 8,
   "metadata": {},
   "outputs": [],
   "source": [
    "from functools import  partial\n",
    "from tensorflow.examples.tutorials.mnist import input_data\n",
    "import tensorflow as tf"
   ]
  },
  {
   "cell_type": "code",
   "execution_count": 9,
   "metadata": {},
   "outputs": [],
   "source": [
    "import numpy as np"
   ]
  },
  {
   "cell_type": "code",
   "execution_count": 17,
   "metadata": {},
   "outputs": [],
   "source": [
    "tf.reset_default_graph()\n",
    "  \n",
    "\n",
    "\n",
    "def shuffle_data(X,y,epoch,batch_size,batch_index):\n",
    "    np.random.seed(epoch*batch_size+batch_size)\n",
    "    random_index = np.random.randint(len(X),size=batch_size)\n",
    "    X_batch = X[random_index]\n",
    "    y_batch = y[random_index]\n",
    "    return X_batch,y_batch\n",
    "\n",
    "\n",
    "if __name__ == '__main__':\n",
    "    n_inputs = 28*28\n",
    "    n_hidden1 = 300\n",
    "    n_hidden2 = 100\n",
    "    n_outputs = 10\n",
    "            \n",
    "    \n",
    "    n_epochs = 20\n",
    "    batch_size = 50\n",
    "    n_batches = len(X_train)//batch_size\n",
    "    \n",
    "    \n",
    "    (X_train, y_train), (X_test, y_test) = tf.keras.datasets.mnist.load_data()\n",
    "    X_train = X_train.astype(np.float32).reshape(-1, 28*28)/255.0\n",
    "    X_test = X_test.astype(np.float32).reshape(-1, 28*28)/255.0\n",
    "    y_train = y_train.astype(np.int64)\n",
    "    y_test = y_test.astype(np.int64)\n",
    "    X_valid, X_train = X_train[:5000], X_train[5000:]\n",
    "    y_valid, y_train = y_train[:5000], y_train[5000:]\n",
    "\n",
    "    \n",
    "    batch_norm_momentum = 0.9\n",
    "    learning_rate = 0.01\n",
    "    \n",
    "    X = tf.placeholder(tf.float32,shape=(None,n_inputs),name=\"X\")\n",
    "    y = tf.placeholder(tf.int64,shape=(None),name=\"y\")\n",
    "    training = tf.placeholder_with_default(False,shape=(),name='training')\n",
    "    \n",
    "    with tf.name_scope('DNN'):\n",
    "        he_init = tf.variance_scaling_initializer()  #权重初始化\n",
    "        \n",
    "        my_batch_norm_layer = partial(\n",
    "            tf.layers.batch_normalization,\n",
    "            training = training,\n",
    "            momentum = batch_norm_momentum\n",
    "        )\n",
    "        \n",
    "        my_dense_layer = partial(\n",
    "            tf.layers.dense,\n",
    "            kernel_initializer = he_init\n",
    "        )\n",
    "        \n",
    "        hidden1 = my_dense_layer(X,n_hidden1,name='hidden1')\n",
    "        bn1 = tf.nn.elu(my_batch_norm_layer(hidden1))\n",
    "        hidden2 = my_dense_layer(bn1,n_hidden2,name='hidden2')\n",
    "        bn2 = tf.nn.elu(my_batch_norm_layer(hidden2))\n",
    "        logists_before_bn = my_dense_layer(bn2,n_outputs,name=\"outputs\")\n",
    "        logists = my_batch_norm_layer(logists_before_bn)\n",
    "        \n",
    "    with tf.name_scope('loss'):\n",
    "        xentropy = tf.nn.sparse_softmax_cross_entropy_with_logits(labels = y,logits=logists)\n",
    "        loss = tf.reduce_mean(xentropy,name=\"loss\")\n",
    "        \n",
    "    with tf.name_scope('train'):\n",
    "        optimizer = tf.train.GradientDescentOptimizer(learning_rate)\n",
    "        extra_update_ops = tf.get_collection(tf.GraphKeys.UPDATE_OPS)\n",
    "        with tf.control_dependencies(extra_update_ops):\n",
    "            training_op = optimizer.minimize(loss)\n",
    "        \n",
    "    with tf.name_scope('eval'):\n",
    "        correct = tf.nn.in_top_k(logists,y,1)\n",
    "        accuracy = tf.reduce_mean(tf.cast(correct,tf.float32))\n",
    "    \n",
    "    init = tf.global_variables_initializer()\n",
    "    saver = tf.train.Saver()"
   ]
  },
  {
   "cell_type": "code",
   "execution_count": 18,
   "metadata": {},
   "outputs": [
    {
     "name": "stdout",
     "output_type": "stream",
     "text": [
      "0 Test accuracy 0.5062\n",
      "1 Test accuracy 0.597\n",
      "2 Test accuracy 0.6328\n",
      "3 Test accuracy 0.6244\n",
      "4 Test accuracy 0.6521\n",
      "5 Test accuracy 0.6935\n",
      "6 Test accuracy 0.697\n",
      "7 Test accuracy 0.7342\n",
      "8 Test accuracy 0.7425\n",
      "9 Test accuracy 0.7589\n",
      "10 Test accuracy 0.7418\n",
      "11 Test accuracy 0.7813\n",
      "12 Test accuracy 0.7657\n",
      "13 Test accuracy 0.7775\n",
      "14 Test accuracy 0.7401\n",
      "15 Test accuracy 0.7919\n",
      "16 Test accuracy 0.7581\n",
      "17 Test accuracy 0.8023\n",
      "18 Test accuracy 0.8072\n",
      "19 Test accuracy 0.7973\n"
     ]
    }
   ],
   "source": [
    "   with tf.Session() as sess:\n",
    "        init.run()\n",
    "        for epoch in range(n_epochs):\n",
    "            for batch_index in range(n_batches):\n",
    "                X_batch,y_batch = shuffle_data(X_train,y_train,epoch,batch_size,batch_index)\n",
    "                sess.run(training_op,feed_dict={training:True,X:X_batch,y:y_batch})\n",
    "            accuracy_val = accuracy.eval(feed_dict={X: X_test,y:y_test})\n",
    "            print(epoch,\"Test accuracy\",accuracy_val)\n",
    "        save_path = saver.save(sess, \"./tmp/my_model_final.ckpt\")"
   ]
  },
  {
   "cell_type": "code",
   "execution_count": 19,
   "metadata": {},
   "outputs": [
    {
     "name": "stdout",
     "output_type": "stream",
     "text": [
      "INFO:tensorflow:Restoring parameters from ./tmp/my_model_final.ckpt\n"
     ]
    }
   ],
   "source": [
    "with tf.Session() as sess:\n",
    "    saver.restore(sess, \"./tmp/my_model_final.ckpt\") # or better, use save_path\n",
    "    X_new_scaled = X_test[:20]\n",
    "    Z = logists.eval(feed_dict={training:False,X: X_new_scaled})\n",
    "    y_pred = np.argmax(Z, axis=1)  "
   ]
  },
  {
   "cell_type": "code",
   "execution_count": 20,
   "metadata": {},
   "outputs": [
    {
     "name": "stdout",
     "output_type": "stream",
     "text": [
      "Predicted classes: [7 2 1 0 4 1 4 9 9 6 0 8 9 0 1 1 9 7 2 4]\n",
      "Actual classes:    [7 2 1 0 4 1 4 9 5 9 0 6 9 0 1 5 9 7 3 4]\n"
     ]
    }
   ],
   "source": [
    "print(\"Predicted classes:\", y_pred)\n",
    "print(\"Actual classes:   \", y_test[:20])"
   ]
  },
  {
   "cell_type": "markdown",
   "metadata": {},
   "source": [
    "# 梯度裁剪"
   ]
  },
  {
   "cell_type": "markdown",
   "metadata": {},
   "source": [
    "```\n",
    "threshold = 1.0\n",
    "optimizer = tf.train.GradientDescentOptimizer(learning_rate)\n",
    "grads_and_vars = optimizer.compute_gradients(loss)\n",
    "capped_gvs = [(tf.clip_by_value(grad, -threshold, threshold), var)for grad, var in grads_and_vars]\n",
    "training_op = optimizer.apply_gradients(capped_gvs)\n",
    "```"
   ]
  },
  {
   "cell_type": "markdown",
   "metadata": {},
   "source": [
    "# 复用预训练层"
   ]
  },
  {
   "cell_type": "markdown",
   "metadata": {},
   "source": [
    "如果输入具有类似的低级层次的特征，则迁移学习将很好地工作"
   ]
  },
  {
   "cell_type": "markdown",
   "metadata": {},
   "source": [
    "```\n",
    "reuse_vars = tf.get_collection(tf.GraphKeys.GLOBAL_VARIABLES,\n",
    "scope=\"hidden[123]\") # regular expression\n",
    "reuse_vars_dict = dict([(var.op.name, var) for var in reuse_vars])\n",
    "restore_saver = tf.train.Saver(reuse_vars_dict) # to restore layers 1-3\n",
    "```\n",
    "\n"
   ]
  },
  {
   "cell_type": "markdown",
   "metadata": {},
   "source": [
    "\n",
    "```\n",
    "reset_graph()\n",
    "\n",
    "n_hidden4 = 20  # new layer\n",
    "n_outputs = 10  # new layer\n",
    "\n",
    "saver = tf.train.import_meta_graph(\"./my_model_final.ckpt.meta\")\n",
    "\n",
    "X = tf.get_default_graph().get_tensor_by_name(\"X:0\")\n",
    "y = tf.get_default_graph().get_tensor_by_name(\"y:0\")\n",
    "\n",
    "hidden3 = tf.get_default_graph().get_tensor_by_name(\"dnn/hidden3/Relu:0\")\n",
    "```"
   ]
  },
  {
   "cell_type": "markdown",
   "metadata": {},
   "source": [
    "# 冻结较低层"
   ]
  },
  {
   "cell_type": "markdown",
   "metadata": {},
   "source": [
    "```\n",
    "train_vars = tf.get_collection(tf.GraphKeys.TRAINABLE_VARIABLES,scope=\"hidden[34]|outputs\")\n",
    "training_op = optimizer.minimize(loss,var_list = train_vars)\n",
    "```"
   ]
  },
  {
   "cell_type": "markdown",
   "metadata": {},
   "source": [
    "# 缓存冻结层"
   ]
  },
  {
   "cell_type": "markdown",
   "metadata": {},
   "source": [
    "```\n",
    "with tf.Session() as sess:\n",
    "    init.run()\n",
    "    restore_saver.restore(sess, \"./my_model_final.ckpt\")\n",
    "    \n",
    "    h2_cache = sess.run(hidden2, feed_dict={X: X_train})\n",
    "    h2_cache_valid = sess.run(hidden2, feed_dict={X: X_valid}) # not shown in the book\n",
    "\n",
    "    for epoch in range(n_epochs):\n",
    "        shuffled_idx = np.random.permutation(len(X_train))\n",
    "        hidden2_batches = np.array_split(h2_cache[shuffled_idx], n_batches)\n",
    "        y_batches = np.array_split(y_train[shuffled_idx], n_batches)\n",
    "        for hidden2_batch, y_batch in zip(hidden2_batches, y_batches):\n",
    "            sess.run(training_op, feed_dict={hidden2:hidden2_batch, y:y_batch})\n",
    "\n",
    "        accuracy_val = accuracy.eval(feed_dict={hidden2: h2_cache_valid, # not shown\n",
    "                                                y: y_valid})             # not shown\n",
    "        print(epoch, \"Validation accuracy:\", accuracy_val)               # not shown\n",
    "\n",
    "```"
   ]
  },
  {
   "cell_type": "markdown",
   "metadata": {},
   "source": [
    "# 调整，删除或替换较高层"
   ]
  },
  {
   "cell_type": "markdown",
   "metadata": {},
   "source": [
    "整个思路是:\n",
    "1. 将模型复制之后，冻结整个复制模型层。\n",
    "2. 尝试观察输出，并逐层解冻，找到适合新任务的层数。\n",
    "3. 最后解冻一个或两个较高的隐藏层\n",
    "4. 如果训练仍无法获得良好的性能，请删除顶部的隐藏层"
   ]
  },
  {
   "cell_type": "markdown",
   "metadata": {},
   "source": [
    "# Model Zoos"
   ]
  },
  {
   "cell_type": "markdown",
   "metadata": {},
   "source": [
    "TensorFlow 在 https://github.com/tensorflow/models 中有自己的模型动物园"
   ]
  },
  {
   "cell_type": "markdown",
   "metadata": {},
   "source": [
    "# 加速训练的方法：\n",
    "1. 对连接权重应用良好的初始化策略\n",
    "2. 使用良好的激活函数\n",
    "3. 使用批量规范化\n",
    "4. 重用预训练网络的部分\n",
    "5. 使用更加快速的优化器"
   ]
  },
  {
   "cell_type": "markdown",
   "metadata": {},
   "source": [
    "#### 更加快速的优化器\n",
    "1. 动量优化\n",
    "2. Nesterov 加速梯度\n",
    "3. AdaGrad\n",
    "4. RMSProp\n",
    "5. Adam 优化（默认使用优化器）动量衰减超参数 β1 通常初始化为 0.9，而缩放衰减超参数 β2 通常初始化为 0.999"
   ]
  },
  {
   "cell_type": "markdown",
   "metadata": {},
   "source": [
    "# 1.训练稀疏模型"
   ]
  },
  {
   "cell_type": "markdown",
   "metadata": {},
   "source": [
    "#### 使用LI正则化以及正则化领导者FTRL"
   ]
  },
  {
   "cell_type": "markdown",
   "metadata": {},
   "source": [
    "# 2.Dropout\n",
    "## Dropconnect是dropout的变体"
   ]
  },
  {
   "cell_type": "markdown",
   "metadata": {},
   "source": [
    "# 3.L1 和 L2 正则化"
   ]
  },
  {
   "cell_type": "markdown",
   "metadata": {},
   "source": [
    "# 4.最大范数正则化"
   ]
  },
  {
   "cell_type": "markdown",
   "metadata": {},
   "source": [
    "对于每个神经元，它约束输入连接的权重 $w$ ，使得$ \\left \\| w \\right \\|_{2}\\leqslant r$，其中$ r $是最大范数超参数， 是$ l2 $范数。我们通常通过在每个训练步骤之后计算$ \\left \\| w \\right \\|_{2}$ 来实现这个约束，并且如果需要的话可以剪切 W 。\n",
    "$$w\\leftarrow w\\frac{r}{\\left \\| w \\right \\|_{2}}$$\n"
   ]
  },
  {
   "cell_type": "markdown",
   "metadata": {},
   "source": [
    "# 5.数据增强"
   ]
  },
  {
   "cell_type": "markdown",
   "metadata": {},
   "source": [
    "# 6.添加跳过连接（深度残差网络）"
   ]
  },
  {
   "cell_type": "markdown",
   "metadata": {},
   "source": [
    "![深度神经网络训练注意事项](./images/深度神经网络训练注意事项.PNG)"
   ]
  },
  {
   "cell_type": "code",
   "execution_count": null,
   "metadata": {},
   "outputs": [],
   "source": []
  }
 ],
 "metadata": {
  "kernelspec": {
   "display_name": "Python 3",
   "language": "python",
   "name": "python3"
  },
  "language_info": {
   "codemirror_mode": {
    "name": "ipython",
    "version": 3
   },
   "file_extension": ".py",
   "mimetype": "text/x-python",
   "name": "python",
   "nbconvert_exporter": "python",
   "pygments_lexer": "ipython3",
   "version": "3.5.4"
  }
 },
 "nbformat": 4,
 "nbformat_minor": 2
}
