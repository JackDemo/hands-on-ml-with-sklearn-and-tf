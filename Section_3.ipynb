{
 "cells": [
  {
   "cell_type": "code",
   "execution_count": 1,
   "metadata": {},
   "outputs": [
    {
     "name": "stdout",
     "output_type": "stream",
     "text": [
      "Done!\n"
     ]
    }
   ],
   "source": [
    "from six.moves import urllib\n",
    "from scipy.io import loadmat\n",
    "import os\n",
    "\n",
    "mnist_path = os.path.join(\".\", \"datasets\", \"mnist-original.mat\")\n",
    "\n",
    "if os.path.exists(mnist_path)==False:\n",
    "    # download dataset from github.\n",
    "    mnist_alternative_url = \"https://github.com/amplab/datascience-sp14/raw/master/lab7/mldata/mnist-original.mat\" \n",
    "    response = urllib.request.urlopen(mnist_alternative_url)\n",
    "    with open(mnist_path, \"wb\") as f:\n",
    "        content = response.read()\n",
    "        f.write(content)\n",
    "else:\n",
    "    mnist_raw = loadmat(mnist_path)\n",
    "    mnist = {\n",
    "        \"data\": mnist_raw[\"data\"].T,\n",
    "        \"target\": mnist_raw[\"label\"][0],\n",
    "        \"COL_NAMES\": [\"label\", \"data\"],\n",
    "        \"DESCR\": \"mldata.org dataset: mnist-original\",\n",
    "    }\n",
    "    print(\"Done!\")"
   ]
  },
  {
   "cell_type": "code",
   "execution_count": 2,
   "metadata": {},
   "outputs": [
    {
     "data": {
      "text/plain": [
       "{'COL_NAMES': ['label', 'data'],\n",
       " 'DESCR': 'mldata.org dataset: mnist-original',\n",
       " 'data': array([[0, 0, 0, ..., 0, 0, 0],\n",
       "        [0, 0, 0, ..., 0, 0, 0],\n",
       "        [0, 0, 0, ..., 0, 0, 0],\n",
       "        ...,\n",
       "        [0, 0, 0, ..., 0, 0, 0],\n",
       "        [0, 0, 0, ..., 0, 0, 0],\n",
       "        [0, 0, 0, ..., 0, 0, 0]], dtype=uint8),\n",
       " 'target': array([0., 0., 0., ..., 9., 9., 9.])}"
      ]
     },
     "execution_count": 2,
     "metadata": {},
     "output_type": "execute_result"
    }
   ],
   "source": [
    "mnist"
   ]
  },
  {
   "cell_type": "code",
   "execution_count": 3,
   "metadata": {},
   "outputs": [],
   "source": [
    "X, y = mnist[\"data\"], mnist[\"target\"]"
   ]
  },
  {
   "cell_type": "code",
   "execution_count": 4,
   "metadata": {},
   "outputs": [
    {
     "data": {
      "text/plain": [
       "(70000, 784)"
      ]
     },
     "execution_count": 4,
     "metadata": {},
     "output_type": "execute_result"
    }
   ],
   "source": [
    "X.shape"
   ]
  },
  {
   "cell_type": "code",
   "execution_count": 5,
   "metadata": {},
   "outputs": [
    {
     "data": {
      "text/plain": [
       "(70000,)"
      ]
     },
     "execution_count": 5,
     "metadata": {},
     "output_type": "execute_result"
    }
   ],
   "source": [
    "y.shape"
   ]
  },
  {
   "cell_type": "code",
   "execution_count": 6,
   "metadata": {},
   "outputs": [],
   "source": [
    "%matplotlib inline\n",
    "import matplotlib \n",
    "import matplotlib.pyplot as plt"
   ]
  },
  {
   "cell_type": "code",
   "execution_count": 7,
   "metadata": {},
   "outputs": [
    {
     "data": {
      "image/png": "[encoded data removed]",
      "text/plain": [
       "<Figure size 432x288 with 1 Axes>"
      ]
     },
     "metadata": {
      "needs_background": "light"
     },
     "output_type": "display_data"
    }
   ],
   "source": [
    "some_digit = X[36000]\n",
    "some_digit_image = some_digit.reshape(28,28)\n",
    "plt.imshow(some_digit_image,cmap= matplotlib.cm.binary, interpolation= \"nearest\")\n",
    "plt.axis(\"off\")\n",
    "plt.show()"
   ]
  },
  {
   "cell_type": "code",
   "execution_count": 33,
   "metadata": {},
   "outputs": [
    {
     "data": {
      "text/plain": [
       "5.0"
      ]
     },
     "execution_count": 33,
     "metadata": {},
     "output_type": "execute_result"
    }
   ],
   "source": [
    "y[36000]"
   ]
  },
  {
   "cell_type": "markdown",
   "metadata": {},
   "source": [
    "### 1.将训练集与测试集分离"
   ]
  },
  {
   "cell_type": "code",
   "execution_count": 9,
   "metadata": {},
   "outputs": [],
   "source": [
    "X_train, X_test, y_train, y_test = X[:60000], X[60000:], y[:60000], y[60000:]"
   ]
  },
  {
   "cell_type": "code",
   "execution_count": 10,
   "metadata": {},
   "outputs": [],
   "source": [
    "import numpy as np"
   ]
  },
  {
   "cell_type": "code",
   "execution_count": 11,
   "metadata": {},
   "outputs": [],
   "source": [
    "#使用此函数来生成 0 - 59999之间不重复的随机排列\n",
    "shuffle_index = np.random.permutation(60000) \n",
    "x_train, y_train = X_train[shuffle_index], y_train[shuffle_index]"
   ]
  },
  {
   "cell_type": "markdown",
   "metadata": {},
   "source": [
    "### 2.简化问题\n",
    "#### 2.1 训练一个二分类器"
   ]
  },
  {
   "cell_type": "code",
   "execution_count": 12,
   "metadata": {},
   "outputs": [],
   "source": [
    "y_train_5 = (y_train == 5)\n",
    "y_test_5 = (y_test ==5)"
   ]
  },
  {
   "cell_type": "code",
   "execution_count": 13,
   "metadata": {},
   "outputs": [],
   "source": [
    "from sklearn.linear_model import SGDClassifier\n",
    "#随机梯度下降分类器并不是一个独立的算法，而是一系列利用随机梯度下降求解参数的算法的集合。"
   ]
  },
  {
   "cell_type": "code",
   "execution_count": 71,
   "metadata": {},
   "outputs": [
    {
     "data": {
      "text/plain": [
       "SGDClassifier(alpha=0.0001, average=False, class_weight=None,\n",
       "       early_stopping=False, epsilon=0.1, eta0=0.0, fit_intercept=True,\n",
       "       l1_ratio=0.15, learning_rate='optimal', loss='hinge', max_iter=60,\n",
       "       n_iter=None, n_iter_no_change=5, n_jobs=None, penalty='l2',\n",
       "       power_t=0.5, random_state=42, shuffle=True, tol=-inf,\n",
       "       validation_fraction=0.1, verbose=0, warm_start=False)"
      ]
     },
     "execution_count": 71,
     "metadata": {},
     "output_type": "execute_result"
    }
   ],
   "source": [
    "sgd_clf = SGDClassifier(max_iter=5, tol=-np.infty,random_state=42)\n",
    "sgd_clf.fit(X_train,y_train_5)\n",
    "# max_iter 被指定为算法训练epoch的次数\n",
    "# tol 被指定为算法停止的标准。在0.21版本中，默认为1e-3"
   ]
  },
  {
   "cell_type": "code",
   "execution_count": 72,
   "metadata": {},
   "outputs": [
    {
     "data": {
      "text/plain": [
       "'0.20.0'"
      ]
     },
     "execution_count": 72,
     "metadata": {},
     "output_type": "execute_result"
    }
   ],
   "source": [
    "import sklearn\n",
    "sklearn.__version__\n",
    "#看起来以上的随机梯度下降分类器模型所使用参数是训练epoch=5就停止"
   ]
  },
  {
   "cell_type": "code",
   "execution_count": 73,
   "metadata": {},
   "outputs": [
    {
     "data": {
      "text/plain": [
       "array([False])"
      ]
     },
     "execution_count": 73,
     "metadata": {},
     "output_type": "execute_result"
    }
   ],
   "source": [
    "sgd_clf.predict([some_digit])"
   ]
  },
  {
   "cell_type": "markdown",
   "metadata": {},
   "source": [
    "### 3.对性能的评估\n",
    "#### 3.1使用交叉验证测量准确性"
   ]
  },
  {
   "cell_type": "code",
   "execution_count": 74,
   "metadata": {},
   "outputs": [],
   "source": [
    "#使用第二章的知识对数据进行K折交叉检验\n",
    "#并且我们往往希望测试集当中的数据与训练集当中的数据有相同的分布\n",
    "#避免出现因为测试集中包含某一类样本过多使得精度度量失去意义 使用分层抽样解决此问题\n",
    "#此时分层抽样的依据往往是训练样本中的label分布\n",
    "#分层抽样在进行训练集与测试集分离以及进行交叉检验时都有涉及，需要注意\n",
    "from sklearn.model_selection import StratifiedKFold\n",
    "from sklearn.base import clone"
   ]
  },
  {
   "cell_type": "code",
   "execution_count": 75,
   "metadata": {},
   "outputs": [
    {
     "data": {
      "text/plain": [
       "(60000, 784)"
      ]
     },
     "execution_count": 75,
     "metadata": {},
     "output_type": "execute_result"
    }
   ],
   "source": [
    "X_train.shape"
   ]
  },
  {
   "cell_type": "code",
   "execution_count": 76,
   "metadata": {},
   "outputs": [],
   "source": [
    "import pandas as pd"
   ]
  },
  {
   "cell_type": "code",
   "execution_count": 77,
   "metadata": {},
   "outputs": [
    {
     "data": {
      "text/plain": [
       "False    54579\n",
       "True      5421\n",
       "Name: label, dtype: int64"
      ]
     },
     "execution_count": 77,
     "metadata": {},
     "output_type": "execute_result"
    }
   ],
   "source": [
    "label = pd.DataFrame(y_train_5,columns=[\"label\"])\n",
    "label[\"label\"].value_counts()"
   ]
  },
  {
   "cell_type": "code",
   "execution_count": 78,
   "metadata": {},
   "outputs": [
    {
     "name": "stdout",
     "output_type": "stream",
     "text": [
      "3614\n",
      "1807\n",
      "9.035%    9.035%\n",
      "3614\n",
      "1807\n",
      "9.035%    9.035%\n",
      "3614\n",
      "1807\n",
      "9.035%    9.035%\n"
     ]
    }
   ],
   "source": [
    "skfolds = StratifiedKFold(n_splits = 3, random_state=42)\n",
    "for train_index, test_index in skfolds.split(X_train, y_train_5):\n",
    "    #应产生总数为40000张的训练集和20000张的测试集\n",
    "    #训练集包含有36000张不是5的图片和4000张是5的图片（尽量）\n",
    "    #测试集包含有18000张不是5的图片和2000张是5的图片（尽量）\n",
    "    #其中训练集包含 5 的图片占总数的9.035%\n",
    "    #测试集中包含5的图片占总数的9.035%\n",
    "    Train_5_count = y_train[train_index]\n",
    "    m1=0\n",
    "    for i in Train_5_count:\n",
    "        #print(i)\n",
    "        if i == 5:\n",
    "            m1=m1+1\n",
    "    print(m1)\n",
    "    Test_5_count = y_train[test_index]\n",
    "    m2=0\n",
    "    for i in Test_5_count:\n",
    "        #print(i)\n",
    "        if i == 5:\n",
    "            m2=m2+1\n",
    "    print(m2)\n",
    "#     y_train[train_index]\n",
    "#     y_test[test_index]\n",
    "    print(str(m1/40000*100)+\"%    \"+str(m2/20000*100)+\"%\")\n",
    "    "
   ]
  },
  {
   "cell_type": "code",
   "execution_count": 79,
   "metadata": {},
   "outputs": [
    {
     "name": "stdout",
     "output_type": "stream",
     "text": [
      "0.8677\n",
      "0.85725\n",
      "0.81775\n"
     ]
    }
   ],
   "source": [
    "skfolds = StratifiedKFold(n_splits = 3, random_state=42)\n",
    "for train_index, test_index in skfolds.split(X_train, y_train_5):\n",
    "    #应产生总数为40000张的训练集和20000张的测试集\n",
    "    #训练集包含有36000张不是5的图片和4000张是5的图片（尽量）\n",
    "    #测试集包含有18000张不是5的图片和2000张是5的图片（尽量）\n",
    "    clone_clf = clone(sgd_clf)\n",
    "    X_train_folds = X_train[train_index]\n",
    "    y_train_folds = (y_train_5[train_index])\n",
    "    X_test_fold = X_train[test_index]\n",
    "    y_test_fold = (y_train_5[test_index])\n",
    "    \n",
    "    clone_clf.fit(X_train_folds, y_train_folds)\n",
    "    y_pred = clone_clf.predict(X_test_fold)\n",
    "    n_correct = sum(y_pred == y_test_fold)\n",
    "    print(n_correct / len(y_pred)) #"
   ]
  },
  {
   "cell_type": "code",
   "execution_count": 80,
   "metadata": {},
   "outputs": [
    {
     "name": "stdout",
     "output_type": "stream",
     "text": [
      "StratifiedKFold(n_splits=2, random_state=None, shuffle=False)\n",
      "Train Index: [2 5] ,Test Index: [0 1 3 4]\n",
      "Train Index: [0 1 3 4] ,Test Index: [2 5]\n"
     ]
    }
   ],
   "source": [
    "# stratifiedKFold：保证训练集中每一类的比例是相同的（尽量）\n",
    "#n_splits代表产生k折 同样的，相当于产生k组数据    sss.split(X,y)中的\n",
    "#参数y则通过计算分布来使训练集与测试集中数据的类别分布一致\n",
    "#当总数为6的样本数被要求分为2折，其中分布为0.5,0.5时，由分布为先\n",
    "\n",
    "import numpy as np\n",
    "from sklearn.model_selection import StratifiedKFold\n",
    "X_stratifiedKFold=np.array([[1,2],[3,4],[5,6],[7,8],[9,10],[11,12]])\n",
    "y_stratifiedKFold=np.array([1,1,1,2,2,2])\n",
    "skf=StratifiedKFold(n_splits=2)\n",
    "print(skf)\n",
    "for train_index,test_index in skf.split(X_stratifiedKFold,y_stratifiedKFold):\n",
    "    print(\"Train Index:\",train_index,\",Test Index:\",test_index)"
   ]
  },
  {
   "cell_type": "code",
   "execution_count": 81,
   "metadata": {},
   "outputs": [
    {
     "name": "stdout",
     "output_type": "stream",
     "text": [
      "StratifiedShuffleSplit(n_splits=2, random_state=0, test_size=0.3,\n",
      "            train_size=None)\n",
      "Train Index: [2 5 1 3] ,Test Index: [0 4]\n",
      "Train Index: [0 4 3 1] ,Test Index: [2 5]\n"
     ]
    }
   ],
   "source": [
    "# StratifiedShuffleSplit 把数据集打乱顺序，然后划分测试集和训练集，\n",
    "# 训练集额和测试集的比例随机选定，训练集和测试集的比例的和可以小于1,\n",
    "#但是还要保证训练集中各类所占的比例是一样的\n",
    "#n_splits代表产生k折     test_size代表测试集所占比例  sss.split(X,y)中的\n",
    "#参数y则通过计算分布来使训练集与测试集中数据的类别分布一致\n",
    "\n",
    "import numpy as np\n",
    "from sklearn.model_selection import StratifiedShuffleSplit\n",
    "X_StratifiedShuffleSplit=np.array([[1,2],[3,4],[5,6],[7,8],[9,10],[11,12]])\n",
    "y_StratifiedShuffleSplit=np.array([1,1,1,2,2,2])\n",
    "sss=StratifiedShuffleSplit(n_splits=2,test_size=.3,random_state=0)\n",
    "#sss.get_n_splits(X,y)\n",
    "print(sss)\n",
    "for train_index,test_index in sss.split(X_StratifiedShuffleSplit,y_StratifiedShuffleSplit):\n",
    "    print(\"Train Index:\",train_index,\",Test Index:\",test_index)"
   ]
  },
  {
   "cell_type": "code",
   "execution_count": 82,
   "metadata": {},
   "outputs": [
    {
     "data": {
      "text/plain": [
       "array([0.8677 , 0.85725, 0.81775])"
      ]
     },
     "execution_count": 82,
     "metadata": {},
     "output_type": "execute_result"
    }
   ],
   "source": [
    "from sklearn.model_selection import cross_val_score\n",
    "cross_val_score(sgd_clf,X_train,y_train_5,cv =3,scoring = \"accuracy\")"
   ]
  },
  {
   "cell_type": "code",
   "execution_count": 83,
   "metadata": {},
   "outputs": [],
   "source": [
    "#在使用分层K折的思想时  你会发现所有的测试折合在一起   就可以覆盖整个参与交叉验证 的集合\n",
    "#所以在使用cross_val_predict（）这个函数时，可以发回来一组基于参与所有数据的预测值\n",
    "\n",
    "from sklearn.model_selection import cross_val_predict\n",
    "y_train_pred = cross_val_predict(sgd_clf, X_train, y_train_5, cv=3)\n"
   ]
  },
  {
   "cell_type": "code",
   "execution_count": 84,
   "metadata": {},
   "outputs": [],
   "source": [
    "from sklearn.base import BaseEstimator\n",
    "class Never5Classifier(BaseEstimator):\n",
    "    def fit(self, X, y=None):\n",
    "        pass\n",
    "    def predict(self, X):\n",
    "        return np.zeros((len(X), 1), dtype=bool)"
   ]
  },
  {
   "cell_type": "code",
   "execution_count": 85,
   "metadata": {},
   "outputs": [
    {
     "data": {
      "text/plain": [
       "array([0.9129 , 0.9097 , 0.90635])"
      ]
     },
     "execution_count": 85,
     "metadata": {},
     "output_type": "execute_result"
    }
   ],
   "source": [
    "never_5_clf = Never5Classifier()\n",
    "cross_val_score(never_5_clf, X_train, y_train_5, cv=3, scoring=\"accuracy\")"
   ]
  },
  {
   "cell_type": "code",
   "execution_count": 86,
   "metadata": {},
   "outputs": [
    {
     "data": {
      "text/plain": [
       "array([[50477,  4102],\n",
       "       [ 5044,   377]], dtype=int64)"
      ]
     },
     "execution_count": 86,
     "metadata": {},
     "output_type": "execute_result"
    }
   ],
   "source": [
    "#pandas包中也有相应的函数\n",
    "\n",
    "from sklearn.metrics import confusion_matrix\n",
    "confusion_matrix(y_train_5, y_train_pred)"
   ]
  },
  {
   "cell_type": "code",
   "execution_count": 87,
   "metadata": {},
   "outputs": [
    {
     "data": {
      "text/html": [
       "<div>\n",
       "<style scoped>\n",
       "    .dataframe tbody tr th:only-of-type {\n",
       "        vertical-align: middle;\n",
       "    }\n",
       "\n",
       "    .dataframe tbody tr th {\n",
       "        vertical-align: top;\n",
       "    }\n",
       "\n",
       "    .dataframe thead th {\n",
       "        text-align: right;\n",
       "    }\n",
       "</style>\n",
       "<table border=\"1\" class=\"dataframe\">\n",
       "  <thead>\n",
       "    <tr style=\"text-align: right;\">\n",
       "      <th>precidion</th>\n",
       "      <th>False</th>\n",
       "      <th>True</th>\n",
       "    </tr>\n",
       "    <tr>\n",
       "      <th>label</th>\n",
       "      <th></th>\n",
       "      <th></th>\n",
       "    </tr>\n",
       "  </thead>\n",
       "  <tbody>\n",
       "    <tr>\n",
       "      <th>False</th>\n",
       "      <td>50477</td>\n",
       "      <td>4102</td>\n",
       "    </tr>\n",
       "    <tr>\n",
       "      <th>True</th>\n",
       "      <td>5044</td>\n",
       "      <td>377</td>\n",
       "    </tr>\n",
       "  </tbody>\n",
       "</table>\n",
       "</div>"
      ],
      "text/plain": [
       "precidion  False  True \n",
       "label                  \n",
       "False      50477   4102\n",
       "True        5044    377"
      ]
     },
     "execution_count": 87,
     "metadata": {},
     "output_type": "execute_result"
    }
   ],
   "source": [
    "import pandas as pd\n",
    "\n",
    "pd.crosstab(y_train_5,y_train_pred,rownames=[\"label\"],colnames=[\"precidion\"])"
   ]
  },
  {
   "cell_type": "markdown",
   "metadata": {},
   "source": [
    "[base64str]:data:image/png;base64,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"
   ]
  },
  {
   "cell_type": "markdown",
   "metadata": {},
   "source": [
    "[base64str]:data:image/png;base64,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"
   ]
  },
  {
   "cell_type": "markdown",
   "metadata": {},
   "source": [
    "<img src=\"https://raw.githubusercontent.com/JackDemo/hands-on-ml-with-sklearn-and-tf/master/images/%E4%BA%8C%E7%BB%B4%E6%B7%B7%E6%B7%86%E7%9F%A9%E9%98%B5.png\" width = \"300\" height = \"300\" div align=center />"
   ]
  },
  {
   "cell_type": "markdown",
   "metadata": {},
   "source": [
    "True Positive(真正，TP)：将正类预测为正类数\n",
    "\n",
    "True Negative(真负，TN)：将负类预测为负类数\n",
    "\n",
    "False Positive(假正，FP)：将负类预测为正类数误报 (Type I error)\n",
    "\n",
    "False Negative(假负，FN)：将正类预测为负类数→漏报 (Type II error)"
   ]
  },
  {
   "cell_type": "markdown",
   "metadata": {},
   "source": [
    "$$precision=\\frac{TP}{TP+FP}$$ \n",
    "准确率：向儿童推送适合其年龄段观看的视频，此时我们希望误报（FP）次数减少，影响导致选择准确率高但召回率低的分类器"
   ]
  },
  {
   "cell_type": "markdown",
   "metadata": {},
   "source": [
    "$$recall=\\frac{TP}{TP+FN}$$ \n",
    "召回率：向警察推送窃贼出现的警报，此时我们希望漏报（FN）次数减少，影响导致选择准确率高但召回率低的分类器"
   ]
  },
  {
   "cell_type": "markdown",
   "metadata": {},
   "source": [
    "### 准确率与召回率"
   ]
  },
  {
   "cell_type": "code",
   "execution_count": 88,
   "metadata": {},
   "outputs": [],
   "source": [
    "from sklearn.metrics import precision_score,recall_score,f1_score"
   ]
  },
  {
   "cell_type": "code",
   "execution_count": 89,
   "metadata": {},
   "outputs": [
    {
     "data": {
      "text/plain": [
       "0.08417057378879214"
      ]
     },
     "execution_count": 89,
     "metadata": {},
     "output_type": "execute_result"
    }
   ],
   "source": [
    "precision_score(y_train_5,y_train_pred)"
   ]
  },
  {
   "cell_type": "code",
   "execution_count": 90,
   "metadata": {},
   "outputs": [
    {
     "data": {
      "text/plain": [
       "0.06954436450839328"
      ]
     },
     "execution_count": 90,
     "metadata": {},
     "output_type": "execute_result"
    }
   ],
   "source": [
    "recall_score(y_train_5, y_train_pred)"
   ]
  },
  {
   "cell_type": "markdown",
   "metadata": {},
   "source": [
    "$$f1=\\frac{2}{\\frac{1}{precision}+\\frac{1}{recall}}$$ "
   ]
  },
  {
   "cell_type": "code",
   "execution_count": 91,
   "metadata": {},
   "outputs": [
    {
     "data": {
      "text/plain": [
       "0.07616161616161617"
      ]
     },
     "execution_count": 91,
     "metadata": {},
     "output_type": "execute_result"
    }
   ],
   "source": [
    "f1_score(y_train_5, y_train_pred)"
   ]
  },
  {
   "cell_type": "code",
   "execution_count": 92,
   "metadata": {},
   "outputs": [
    {
     "data": {
      "text/plain": [
       "array([-21268.83065215])"
      ]
     },
     "execution_count": 92,
     "metadata": {},
     "output_type": "execute_result"
    }
   ],
   "source": [
    "y_scores = sgd_clf.decision_function([some_digit])\n",
    "y_scores"
   ]
  },
  {
   "cell_type": "code",
   "execution_count": 93,
   "metadata": {},
   "outputs": [
    {
     "data": {
      "text/plain": [
       "array([ True])"
      ]
     },
     "execution_count": 93,
     "metadata": {},
     "output_type": "execute_result"
    }
   ],
   "source": [
    "threshold = -200000\n",
    "y_some_digit_pred = (y_scores > threshold)\n",
    "y_some_digit_pred"
   ]
  },
  {
   "cell_type": "code",
   "execution_count": 94,
   "metadata": {},
   "outputs": [
    {
     "data": {
      "text/plain": [
       "array([ -5498.29300885, -20159.83181   , -10822.06865391, ...,\n",
       "         1918.10767418,   1811.61450196,   6121.66211131])"
      ]
     },
     "execution_count": 94,
     "metadata": {},
     "output_type": "execute_result"
    }
   ],
   "source": [
    "y_scores = cross_val_predict(sgd_clf, X_train, y_train_5, cv=3,method=\"decision_function\")\n",
    "y_scores"
   ]
  },
  {
   "cell_type": "code",
   "execution_count": 95,
   "metadata": {},
   "outputs": [],
   "source": [
    "from sklearn.metrics import precision_recall_curve\n",
    "precisions, recalls, thresholds = precision_recall_curve(y_train_5, y_scores)"
   ]
  },
  {
   "cell_type": "code",
   "execution_count": 96,
   "metadata": {},
   "outputs": [
    {
     "data": {
      "image/png": "[encoded data removed]",
      "text/plain": [
       "<Figure size 432x288 with 1 Axes>"
      ]
     },
     "metadata": {
      "needs_background": "light"
     },
     "output_type": "display_data"
    }
   ],
   "source": [
    "def plot_precision_recall_vs_threshold(precisions, recalls, thresholds):\n",
    "    plt.plot(thresholds, precisions[:-1], \"b--\", label=\"Precision\")\n",
    "    plt.plot(thresholds, recalls[:-1], \"g-\", label=\"Recall\")\n",
    "    plt.xlabel(\"Threshold\")\n",
    "    plt.legend(loc=\"upper left\")\n",
    "    plt.ylim([0, 1])\n",
    "plot_precision_recall_vs_threshold(precisions, recalls, thresholds)\n",
    "plt.show()\n"
   ]
  },
  {
   "cell_type": "code",
   "execution_count": 97,
   "metadata": {},
   "outputs": [],
   "source": [
    "from sklearn.metrics import roc_curve\n",
    "fpr, tpr, thresholds = roc_curve(y_train_5, y_scores)"
   ]
  },
  {
   "cell_type": "code",
   "execution_count": 98,
   "metadata": {},
   "outputs": [
    {
     "data": {
      "image/png": "[encoded data removed]",
      "text/plain": [
       "<Figure size 432x288 with 1 Axes>"
      ]
     },
     "metadata": {
      "needs_background": "light"
     },
     "output_type": "display_data"
    }
   ],
   "source": [
    "def plot_roc_curve(fpr, tpr, label=None):\n",
    "    plt.plot(fpr, tpr, linewidth=2, label=label)\n",
    "    plt.plot([0, 1], [0, 1], 'k--')\n",
    "    plt.axis([0, 1, 0, 1])\n",
    "    plt.xlabel('False Positive Rate')\n",
    "    plt.ylabel('True Positive Rate')\n",
    "plot_roc_curve(fpr, tpr)\n",
    "plt.show()\n"
   ]
  },
  {
   "cell_type": "code",
   "execution_count": 99,
   "metadata": {},
   "outputs": [
    {
     "name": "stderr",
     "output_type": "stream",
     "text": [
      "d:\\learn\\envs\\tensorflow\\lib\\site-packages\\sklearn\\ensemble\\forest.py:248: FutureWarning: The default value of n_estimators will change from 10 in version 0.20 to 100 in 0.22.\n",
      "  \"10 in version 0.20 to 100 in 0.22.\", FutureWarning)\n",
      "d:\\learn\\envs\\tensorflow\\lib\\site-packages\\sklearn\\ensemble\\forest.py:248: FutureWarning: The default value of n_estimators will change from 10 in version 0.20 to 100 in 0.22.\n",
      "  \"10 in version 0.20 to 100 in 0.22.\", FutureWarning)\n",
      "d:\\learn\\envs\\tensorflow\\lib\\site-packages\\sklearn\\ensemble\\forest.py:248: FutureWarning: The default value of n_estimators will change from 10 in version 0.20 to 100 in 0.22.\n",
      "  \"10 in version 0.20 to 100 in 0.22.\", FutureWarning)\n"
     ]
    }
   ],
   "source": [
    "from sklearn.ensemble import RandomForestClassifier\n",
    "forest_clf = RandomForestClassifier(random_state=42)\n",
    "y_probas_forest = cross_val_predict(forest_clf, X_train, y_train_5, cv=3,\n",
    "method=\"predict_proba\")"
   ]
  },
  {
   "cell_type": "code",
   "execution_count": 100,
   "metadata": {},
   "outputs": [
    {
     "data": {
      "text/plain": [
       "array([[0.8, 0.2],\n",
       "       [0.9, 0.1],\n",
       "       [0.9, 0.1],\n",
       "       ...,\n",
       "       [0.9, 0.1],\n",
       "       [0.9, 0.1],\n",
       "       [0.9, 0.1]])"
      ]
     },
     "execution_count": 100,
     "metadata": {},
     "output_type": "execute_result"
    }
   ],
   "source": [
    "y_probas_forest"
   ]
  },
  {
   "cell_type": "code",
   "execution_count": 101,
   "metadata": {},
   "outputs": [
    {
     "data": {
      "text/plain": [
       "array([0.2, 0.1, 0.1, ..., 0.1, 0.1, 0.1])"
      ]
     },
     "execution_count": 101,
     "metadata": {},
     "output_type": "execute_result"
    }
   ],
   "source": [
    "y_scores_forest = y_probas_forest[:, 1]\n",
    "y_scores_forest"
   ]
  },
  {
   "cell_type": "code",
   "execution_count": 102,
   "metadata": {},
   "outputs": [
    {
     "name": "stderr",
     "output_type": "stream",
     "text": [
      "d:\\learn\\envs\\tensorflow\\lib\\site-packages\\matplotlib\\legend.py:640: UserWarning: Unrecognized location \"bottom right\". Falling back on \"best\"; valid locations are\n",
      "\tlower right\n",
      "\tbest\n",
      "\tupper left\n",
      "\tlower center\n",
      "\tcenter left\n",
      "\tlower left\n",
      "\tright\n",
      "\tupper right\n",
      "\tcenter right\n",
      "\tcenter\n",
      "\tupper center\n",
      "\n",
      "  % (loc, '\\n\\t'.join(self.codes)))\n"
     ]
    },
    {
     "data": {
      "image/png": "[encoded data removed]",
      "text/plain": [
       "<Figure size 432x288 with 1 Axes>"
      ]
     },
     "metadata": {
      "needs_background": "light"
     },
     "output_type": "display_data"
    }
   ],
   "source": [
    "fpr_forest, tpr_forest, thresholds_forest = roc_curve(y_train_5,y_scores_forest)\n",
    "plt.plot(fpr, tpr, \"b:\", label=\"SGD\")\n",
    "plot_roc_curve(fpr_forest, tpr_forest, \"Random Forest\")\n",
    "plt.legend(loc=\"bottom right\")\n",
    "plt.show()"
   ]
  },
  {
   "cell_type": "code",
   "execution_count": 106,
   "metadata": {},
   "outputs": [
    {
     "data": {
      "text/plain": [
       "array([0.])"
      ]
     },
     "execution_count": 106,
     "metadata": {},
     "output_type": "execute_result"
    }
   ],
   "source": [
    "sgd_clf.fit(X_train, y_train) # y_train, not y_train_5\n",
    "some_digit = X[0]\n",
    "sgd_clf.predict([some_digit])"
   ]
  },
  {
   "cell_type": "code",
   "execution_count": 107,
   "metadata": {},
   "outputs": [
    {
     "data": {
      "image/png": "[encoded data removed]",
      "text/plain": [
       "<Figure size 432x288 with 1 Axes>"
      ]
     },
     "metadata": {
      "needs_background": "light"
     },
     "output_type": "display_data"
    }
   ],
   "source": [
    "some_digit_image = some_digit.reshape(28,28)\n",
    "plt.imshow(some_digit_image,cmap= matplotlib.cm.binary, interpolation= \"nearest\")\n",
    "plt.axis(\"off\")\n",
    "plt.show()"
   ]
  },
  {
   "cell_type": "code",
   "execution_count": 108,
   "metadata": {},
   "outputs": [
    {
     "data": {
      "text/plain": [
       "array([[  2971.97312778, -20814.83656616, -20196.10801521,\n",
       "          -562.49439299,  -2323.70593636, -17086.88836335,\n",
       "         -2140.59737566, -15786.97782766, -14863.98161559,\n",
       "        -12617.75203676]])"
      ]
     },
     "execution_count": 108,
     "metadata": {},
     "output_type": "execute_result"
    }
   ],
   "source": [
    "some_digit_scores = sgd_clf.decision_function([some_digit])\n",
    "some_digit_scores"
   ]
  },
  {
   "cell_type": "code",
   "execution_count": 109,
   "metadata": {},
   "outputs": [
    {
     "data": {
      "text/plain": [
       "0"
      ]
     },
     "execution_count": 109,
     "metadata": {},
     "output_type": "execute_result"
    }
   ],
   "source": [
    "np.argmax(some_digit_scores)"
   ]
  },
  {
   "cell_type": "code",
   "execution_count": 110,
   "metadata": {},
   "outputs": [
    {
     "data": {
      "text/plain": [
       "array([0., 1., 2., 3., 4., 5., 6., 7., 8., 9.])"
      ]
     },
     "execution_count": 110,
     "metadata": {},
     "output_type": "execute_result"
    }
   ],
   "source": [
    "sgd_clf.classes_"
   ]
  },
  {
   "cell_type": "code",
   "execution_count": 112,
   "metadata": {},
   "outputs": [
    {
     "name": "stderr",
     "output_type": "stream",
     "text": [
      "d:\\learn\\envs\\tensorflow\\lib\\site-packages\\sklearn\\linear_model\\stochastic_gradient.py:144: FutureWarning: max_iter and tol parameters have been added in SGDClassifier in 0.19. If both are left unset, they default to max_iter=5 and tol=None. If tol is not None, max_iter defaults to max_iter=1000. From 0.21, default max_iter will be 1000, and default tol will be 1e-3.\n",
      "  FutureWarning)\n",
      "d:\\learn\\envs\\tensorflow\\lib\\site-packages\\sklearn\\linear_model\\stochastic_gradient.py:144: FutureWarning: max_iter and tol parameters have been added in SGDClassifier in 0.19. If both are left unset, they default to max_iter=5 and tol=None. If tol is not None, max_iter defaults to max_iter=1000. From 0.21, default max_iter will be 1000, and default tol will be 1e-3.\n",
      "  FutureWarning)\n",
      "d:\\learn\\envs\\tensorflow\\lib\\site-packages\\sklearn\\linear_model\\stochastic_gradient.py:144: FutureWarning: max_iter and tol parameters have been added in SGDClassifier in 0.19. If both are left unset, they default to max_iter=5 and tol=None. If tol is not None, max_iter defaults to max_iter=1000. From 0.21, default max_iter will be 1000, and default tol will be 1e-3.\n",
      "  FutureWarning)\n",
      "d:\\learn\\envs\\tensorflow\\lib\\site-packages\\sklearn\\linear_model\\stochastic_gradient.py:144: FutureWarning: max_iter and tol parameters have been added in SGDClassifier in 0.19. If both are left unset, they default to max_iter=5 and tol=None. If tol is not None, max_iter defaults to max_iter=1000. From 0.21, default max_iter will be 1000, and default tol will be 1e-3.\n",
      "  FutureWarning)\n",
      "d:\\learn\\envs\\tensorflow\\lib\\site-packages\\sklearn\\linear_model\\stochastic_gradient.py:144: FutureWarning: max_iter and tol parameters have been added in SGDClassifier in 0.19. If both are left unset, they default to max_iter=5 and tol=None. If tol is not None, max_iter defaults to max_iter=1000. From 0.21, default max_iter will be 1000, and default tol will be 1e-3.\n",
      "  FutureWarning)\n",
      "d:\\learn\\envs\\tensorflow\\lib\\site-packages\\sklearn\\linear_model\\stochastic_gradient.py:144: FutureWarning: max_iter and tol parameters have been added in SGDClassifier in 0.19. If both are left unset, they default to max_iter=5 and tol=None. If tol is not None, max_iter defaults to max_iter=1000. From 0.21, default max_iter will be 1000, and default tol will be 1e-3.\n",
      "  FutureWarning)\n",
      "d:\\learn\\envs\\tensorflow\\lib\\site-packages\\sklearn\\linear_model\\stochastic_gradient.py:144: FutureWarning: max_iter and tol parameters have been added in SGDClassifier in 0.19. If both are left unset, they default to max_iter=5 and tol=None. If tol is not None, max_iter defaults to max_iter=1000. From 0.21, default max_iter will be 1000, and default tol will be 1e-3.\n",
      "  FutureWarning)\n",
      "d:\\learn\\envs\\tensorflow\\lib\\site-packages\\sklearn\\linear_model\\stochastic_gradient.py:144: FutureWarning: max_iter and tol parameters have been added in SGDClassifier in 0.19. If both are left unset, they default to max_iter=5 and tol=None. If tol is not None, max_iter defaults to max_iter=1000. From 0.21, default max_iter will be 1000, and default tol will be 1e-3.\n",
      "  FutureWarning)\n",
      "d:\\learn\\envs\\tensorflow\\lib\\site-packages\\sklearn\\linear_model\\stochastic_gradient.py:144: FutureWarning: max_iter and tol parameters have been added in SGDClassifier in 0.19. If both are left unset, they default to max_iter=5 and tol=None. If tol is not None, max_iter defaults to max_iter=1000. From 0.21, default max_iter will be 1000, and default tol will be 1e-3.\n",
      "  FutureWarning)\n",
      "d:\\learn\\envs\\tensorflow\\lib\\site-packages\\sklearn\\linear_model\\stochastic_gradient.py:144: FutureWarning: max_iter and tol parameters have been added in SGDClassifier in 0.19. If both are left unset, they default to max_iter=5 and tol=None. If tol is not None, max_iter defaults to max_iter=1000. From 0.21, default max_iter will be 1000, and default tol will be 1e-3.\n",
      "  FutureWarning)\n",
      "d:\\learn\\envs\\tensorflow\\lib\\site-packages\\sklearn\\linear_model\\stochastic_gradient.py:144: FutureWarning: max_iter and tol parameters have been added in SGDClassifier in 0.19. If both are left unset, they default to max_iter=5 and tol=None. If tol is not None, max_iter defaults to max_iter=1000. From 0.21, default max_iter will be 1000, and default tol will be 1e-3.\n",
      "  FutureWarning)\n",
      "d:\\learn\\envs\\tensorflow\\lib\\site-packages\\sklearn\\linear_model\\stochastic_gradient.py:144: FutureWarning: max_iter and tol parameters have been added in SGDClassifier in 0.19. If both are left unset, they default to max_iter=5 and tol=None. If tol is not None, max_iter defaults to max_iter=1000. From 0.21, default max_iter will be 1000, and default tol will be 1e-3.\n",
      "  FutureWarning)\n",
      "d:\\learn\\envs\\tensorflow\\lib\\site-packages\\sklearn\\linear_model\\stochastic_gradient.py:144: FutureWarning: max_iter and tol parameters have been added in SGDClassifier in 0.19. If both are left unset, they default to max_iter=5 and tol=None. If tol is not None, max_iter defaults to max_iter=1000. From 0.21, default max_iter will be 1000, and default tol will be 1e-3.\n",
      "  FutureWarning)\n",
      "d:\\learn\\envs\\tensorflow\\lib\\site-packages\\sklearn\\linear_model\\stochastic_gradient.py:144: FutureWarning: max_iter and tol parameters have been added in SGDClassifier in 0.19. If both are left unset, they default to max_iter=5 and tol=None. If tol is not None, max_iter defaults to max_iter=1000. From 0.21, default max_iter will be 1000, and default tol will be 1e-3.\n",
      "  FutureWarning)\n",
      "d:\\learn\\envs\\tensorflow\\lib\\site-packages\\sklearn\\linear_model\\stochastic_gradient.py:144: FutureWarning: max_iter and tol parameters have been added in SGDClassifier in 0.19. If both are left unset, they default to max_iter=5 and tol=None. If tol is not None, max_iter defaults to max_iter=1000. From 0.21, default max_iter will be 1000, and default tol will be 1e-3.\n",
      "  FutureWarning)\n",
      "d:\\learn\\envs\\tensorflow\\lib\\site-packages\\sklearn\\linear_model\\stochastic_gradient.py:144: FutureWarning: max_iter and tol parameters have been added in SGDClassifier in 0.19. If both are left unset, they default to max_iter=5 and tol=None. If tol is not None, max_iter defaults to max_iter=1000. From 0.21, default max_iter will be 1000, and default tol will be 1e-3.\n",
      "  FutureWarning)\n",
      "d:\\learn\\envs\\tensorflow\\lib\\site-packages\\sklearn\\linear_model\\stochastic_gradient.py:144: FutureWarning: max_iter and tol parameters have been added in SGDClassifier in 0.19. If both are left unset, they default to max_iter=5 and tol=None. If tol is not None, max_iter defaults to max_iter=1000. From 0.21, default max_iter will be 1000, and default tol will be 1e-3.\n",
      "  FutureWarning)\n",
      "d:\\learn\\envs\\tensorflow\\lib\\site-packages\\sklearn\\linear_model\\stochastic_gradient.py:144: FutureWarning: max_iter and tol parameters have been added in SGDClassifier in 0.19. If both are left unset, they default to max_iter=5 and tol=None. If tol is not None, max_iter defaults to max_iter=1000. From 0.21, default max_iter will be 1000, and default tol will be 1e-3.\n",
      "  FutureWarning)\n",
      "d:\\learn\\envs\\tensorflow\\lib\\site-packages\\sklearn\\linear_model\\stochastic_gradient.py:144: FutureWarning: max_iter and tol parameters have been added in SGDClassifier in 0.19. If both are left unset, they default to max_iter=5 and tol=None. If tol is not None, max_iter defaults to max_iter=1000. From 0.21, default max_iter will be 1000, and default tol will be 1e-3.\n",
      "  FutureWarning)\n",
      "d:\\learn\\envs\\tensorflow\\lib\\site-packages\\sklearn\\linear_model\\stochastic_gradient.py:144: FutureWarning: max_iter and tol parameters have been added in SGDClassifier in 0.19. If both are left unset, they default to max_iter=5 and tol=None. If tol is not None, max_iter defaults to max_iter=1000. From 0.21, default max_iter will be 1000, and default tol will be 1e-3.\n",
      "  FutureWarning)\n",
      "d:\\learn\\envs\\tensorflow\\lib\\site-packages\\sklearn\\linear_model\\stochastic_gradient.py:144: FutureWarning: max_iter and tol parameters have been added in SGDClassifier in 0.19. If both are left unset, they default to max_iter=5 and tol=None. If tol is not None, max_iter defaults to max_iter=1000. From 0.21, default max_iter will be 1000, and default tol will be 1e-3.\n",
      "  FutureWarning)\n",
      "d:\\learn\\envs\\tensorflow\\lib\\site-packages\\sklearn\\linear_model\\stochastic_gradient.py:144: FutureWarning: max_iter and tol parameters have been added in SGDClassifier in 0.19. If both are left unset, they default to max_iter=5 and tol=None. If tol is not None, max_iter defaults to max_iter=1000. From 0.21, default max_iter will be 1000, and default tol will be 1e-3.\n",
      "  FutureWarning)\n"
     ]
    },
    {
     "name": "stderr",
     "output_type": "stream",
     "text": [
      "d:\\learn\\envs\\tensorflow\\lib\\site-packages\\sklearn\\linear_model\\stochastic_gradient.py:144: FutureWarning: max_iter and tol parameters have been added in SGDClassifier in 0.19. If both are left unset, they default to max_iter=5 and tol=None. If tol is not None, max_iter defaults to max_iter=1000. From 0.21, default max_iter will be 1000, and default tol will be 1e-3.\n",
      "  FutureWarning)\n",
      "d:\\learn\\envs\\tensorflow\\lib\\site-packages\\sklearn\\linear_model\\stochastic_gradient.py:144: FutureWarning: max_iter and tol parameters have been added in SGDClassifier in 0.19. If both are left unset, they default to max_iter=5 and tol=None. If tol is not None, max_iter defaults to max_iter=1000. From 0.21, default max_iter will be 1000, and default tol will be 1e-3.\n",
      "  FutureWarning)\n",
      "d:\\learn\\envs\\tensorflow\\lib\\site-packages\\sklearn\\linear_model\\stochastic_gradient.py:144: FutureWarning: max_iter and tol parameters have been added in SGDClassifier in 0.19. If both are left unset, they default to max_iter=5 and tol=None. If tol is not None, max_iter defaults to max_iter=1000. From 0.21, default max_iter will be 1000, and default tol will be 1e-3.\n",
      "  FutureWarning)\n",
      "d:\\learn\\envs\\tensorflow\\lib\\site-packages\\sklearn\\linear_model\\stochastic_gradient.py:144: FutureWarning: max_iter and tol parameters have been added in SGDClassifier in 0.19. If both are left unset, they default to max_iter=5 and tol=None. If tol is not None, max_iter defaults to max_iter=1000. From 0.21, default max_iter will be 1000, and default tol will be 1e-3.\n",
      "  FutureWarning)\n",
      "d:\\learn\\envs\\tensorflow\\lib\\site-packages\\sklearn\\linear_model\\stochastic_gradient.py:144: FutureWarning: max_iter and tol parameters have been added in SGDClassifier in 0.19. If both are left unset, they default to max_iter=5 and tol=None. If tol is not None, max_iter defaults to max_iter=1000. From 0.21, default max_iter will be 1000, and default tol will be 1e-3.\n",
      "  FutureWarning)\n",
      "d:\\learn\\envs\\tensorflow\\lib\\site-packages\\sklearn\\linear_model\\stochastic_gradient.py:144: FutureWarning: max_iter and tol parameters have been added in SGDClassifier in 0.19. If both are left unset, they default to max_iter=5 and tol=None. If tol is not None, max_iter defaults to max_iter=1000. From 0.21, default max_iter will be 1000, and default tol will be 1e-3.\n",
      "  FutureWarning)\n",
      "d:\\learn\\envs\\tensorflow\\lib\\site-packages\\sklearn\\linear_model\\stochastic_gradient.py:144: FutureWarning: max_iter and tol parameters have been added in SGDClassifier in 0.19. If both are left unset, they default to max_iter=5 and tol=None. If tol is not None, max_iter defaults to max_iter=1000. From 0.21, default max_iter will be 1000, and default tol will be 1e-3.\n",
      "  FutureWarning)\n",
      "d:\\learn\\envs\\tensorflow\\lib\\site-packages\\sklearn\\linear_model\\stochastic_gradient.py:144: FutureWarning: max_iter and tol parameters have been added in SGDClassifier in 0.19. If both are left unset, they default to max_iter=5 and tol=None. If tol is not None, max_iter defaults to max_iter=1000. From 0.21, default max_iter will be 1000, and default tol will be 1e-3.\n",
      "  FutureWarning)\n",
      "d:\\learn\\envs\\tensorflow\\lib\\site-packages\\sklearn\\linear_model\\stochastic_gradient.py:144: FutureWarning: max_iter and tol parameters have been added in SGDClassifier in 0.19. If both are left unset, they default to max_iter=5 and tol=None. If tol is not None, max_iter defaults to max_iter=1000. From 0.21, default max_iter will be 1000, and default tol will be 1e-3.\n",
      "  FutureWarning)\n",
      "d:\\learn\\envs\\tensorflow\\lib\\site-packages\\sklearn\\linear_model\\stochastic_gradient.py:144: FutureWarning: max_iter and tol parameters have been added in SGDClassifier in 0.19. If both are left unset, they default to max_iter=5 and tol=None. If tol is not None, max_iter defaults to max_iter=1000. From 0.21, default max_iter will be 1000, and default tol will be 1e-3.\n",
      "  FutureWarning)\n",
      "d:\\learn\\envs\\tensorflow\\lib\\site-packages\\sklearn\\linear_model\\stochastic_gradient.py:144: FutureWarning: max_iter and tol parameters have been added in SGDClassifier in 0.19. If both are left unset, they default to max_iter=5 and tol=None. If tol is not None, max_iter defaults to max_iter=1000. From 0.21, default max_iter will be 1000, and default tol will be 1e-3.\n",
      "  FutureWarning)\n",
      "d:\\learn\\envs\\tensorflow\\lib\\site-packages\\sklearn\\linear_model\\stochastic_gradient.py:144: FutureWarning: max_iter and tol parameters have been added in SGDClassifier in 0.19. If both are left unset, they default to max_iter=5 and tol=None. If tol is not None, max_iter defaults to max_iter=1000. From 0.21, default max_iter will be 1000, and default tol will be 1e-3.\n",
      "  FutureWarning)\n",
      "d:\\learn\\envs\\tensorflow\\lib\\site-packages\\sklearn\\linear_model\\stochastic_gradient.py:144: FutureWarning: max_iter and tol parameters have been added in SGDClassifier in 0.19. If both are left unset, they default to max_iter=5 and tol=None. If tol is not None, max_iter defaults to max_iter=1000. From 0.21, default max_iter will be 1000, and default tol will be 1e-3.\n",
      "  FutureWarning)\n",
      "d:\\learn\\envs\\tensorflow\\lib\\site-packages\\sklearn\\linear_model\\stochastic_gradient.py:144: FutureWarning: max_iter and tol parameters have been added in SGDClassifier in 0.19. If both are left unset, they default to max_iter=5 and tol=None. If tol is not None, max_iter defaults to max_iter=1000. From 0.21, default max_iter will be 1000, and default tol will be 1e-3.\n",
      "  FutureWarning)\n",
      "d:\\learn\\envs\\tensorflow\\lib\\site-packages\\sklearn\\linear_model\\stochastic_gradient.py:144: FutureWarning: max_iter and tol parameters have been added in SGDClassifier in 0.19. If both are left unset, they default to max_iter=5 and tol=None. If tol is not None, max_iter defaults to max_iter=1000. From 0.21, default max_iter will be 1000, and default tol will be 1e-3.\n",
      "  FutureWarning)\n",
      "d:\\learn\\envs\\tensorflow\\lib\\site-packages\\sklearn\\linear_model\\stochastic_gradient.py:144: FutureWarning: max_iter and tol parameters have been added in SGDClassifier in 0.19. If both are left unset, they default to max_iter=5 and tol=None. If tol is not None, max_iter defaults to max_iter=1000. From 0.21, default max_iter will be 1000, and default tol will be 1e-3.\n",
      "  FutureWarning)\n",
      "d:\\learn\\envs\\tensorflow\\lib\\site-packages\\sklearn\\linear_model\\stochastic_gradient.py:144: FutureWarning: max_iter and tol parameters have been added in SGDClassifier in 0.19. If both are left unset, they default to max_iter=5 and tol=None. If tol is not None, max_iter defaults to max_iter=1000. From 0.21, default max_iter will be 1000, and default tol will be 1e-3.\n",
      "  FutureWarning)\n",
      "d:\\learn\\envs\\tensorflow\\lib\\site-packages\\sklearn\\linear_model\\stochastic_gradient.py:144: FutureWarning: max_iter and tol parameters have been added in SGDClassifier in 0.19. If both are left unset, they default to max_iter=5 and tol=None. If tol is not None, max_iter defaults to max_iter=1000. From 0.21, default max_iter will be 1000, and default tol will be 1e-3.\n",
      "  FutureWarning)\n",
      "d:\\learn\\envs\\tensorflow\\lib\\site-packages\\sklearn\\linear_model\\stochastic_gradient.py:144: FutureWarning: max_iter and tol parameters have been added in SGDClassifier in 0.19. If both are left unset, they default to max_iter=5 and tol=None. If tol is not None, max_iter defaults to max_iter=1000. From 0.21, default max_iter will be 1000, and default tol will be 1e-3.\n",
      "  FutureWarning)\n",
      "d:\\learn\\envs\\tensorflow\\lib\\site-packages\\sklearn\\linear_model\\stochastic_gradient.py:144: FutureWarning: max_iter and tol parameters have been added in SGDClassifier in 0.19. If both are left unset, they default to max_iter=5 and tol=None. If tol is not None, max_iter defaults to max_iter=1000. From 0.21, default max_iter will be 1000, and default tol will be 1e-3.\n",
      "  FutureWarning)\n",
      "d:\\learn\\envs\\tensorflow\\lib\\site-packages\\sklearn\\linear_model\\stochastic_gradient.py:144: FutureWarning: max_iter and tol parameters have been added in SGDClassifier in 0.19. If both are left unset, they default to max_iter=5 and tol=None. If tol is not None, max_iter defaults to max_iter=1000. From 0.21, default max_iter will be 1000, and default tol will be 1e-3.\n",
      "  FutureWarning)\n",
      "d:\\learn\\envs\\tensorflow\\lib\\site-packages\\sklearn\\linear_model\\stochastic_gradient.py:144: FutureWarning: max_iter and tol parameters have been added in SGDClassifier in 0.19. If both are left unset, they default to max_iter=5 and tol=None. If tol is not None, max_iter defaults to max_iter=1000. From 0.21, default max_iter will be 1000, and default tol will be 1e-3.\n",
      "  FutureWarning)\n"
     ]
    },
    {
     "name": "stderr",
     "output_type": "stream",
     "text": [
      "d:\\learn\\envs\\tensorflow\\lib\\site-packages\\sklearn\\linear_model\\stochastic_gradient.py:144: FutureWarning: max_iter and tol parameters have been added in SGDClassifier in 0.19. If both are left unset, they default to max_iter=5 and tol=None. If tol is not None, max_iter defaults to max_iter=1000. From 0.21, default max_iter will be 1000, and default tol will be 1e-3.\n",
      "  FutureWarning)\n"
     ]
    },
    {
     "data": {
      "text/plain": [
       "45"
      ]
     },
     "execution_count": 112,
     "metadata": {},
     "output_type": "execute_result"
    }
   ],
   "source": [
    "from sklearn.multiclass import OneVsOneClassifier\n",
    "ovo_clf = OneVsOneClassifier(SGDClassifier(random_state=42))\n",
    "ovo_clf.fit(X_train, y_train)\n",
    "ovo_clf.predict([some_digit])\n",
    "len(ovo_clf.estimators_)"
   ]
  },
  {
   "cell_type": "code",
   "execution_count": 113,
   "metadata": {},
   "outputs": [
    {
     "name": "stderr",
     "output_type": "stream",
     "text": [
      "d:\\learn\\envs\\tensorflow\\lib\\site-packages\\sklearn\\ensemble\\forest.py:248: FutureWarning: The default value of n_estimators will change from 10 in version 0.20 to 100 in 0.22.\n",
      "  \"10 in version 0.20 to 100 in 0.22.\", FutureWarning)\n"
     ]
    },
    {
     "data": {
      "text/plain": [
       "array([8.])"
      ]
     },
     "execution_count": 113,
     "metadata": {},
     "output_type": "execute_result"
    }
   ],
   "source": [
    "forest_clf.fit(X_train, y_train)\n",
    "forest_clf.predict([some_digit])"
   ]
  },
  {
   "cell_type": "code",
   "execution_count": 114,
   "metadata": {},
   "outputs": [
    {
     "data": {
      "text/plain": [
       "array([[0. , 0.2, 0.1, 0.1, 0. , 0. , 0. , 0. , 0.6, 0. ]])"
      ]
     },
     "execution_count": 114,
     "metadata": {},
     "output_type": "execute_result"
    }
   ],
   "source": [
    "forest_clf.predict_proba([some_digit])"
   ]
  },
  {
   "cell_type": "code",
   "execution_count": 115,
   "metadata": {},
   "outputs": [
    {
     "data": {
      "text/plain": [
       "array([0.10622875, 0.10210511, 0.09516427])"
      ]
     },
     "execution_count": 115,
     "metadata": {},
     "output_type": "execute_result"
    }
   ],
   "source": [
    "cross_val_score(sgd_clf, X_train, y_train, cv=3, scoring=\"accuracy\")"
   ]
  },
  {
   "cell_type": "code",
   "execution_count": null,
   "metadata": {},
   "outputs": [],
   "source": []
  }
 ],
 "metadata": {
  "kernelspec": {
   "display_name": "Python 3",
   "language": "python",
   "name": "python3"
  },
  "language_info": {
   "codemirror_mode": {
    "name": "ipython",
    "version": 3
   },
   "file_extension": ".py",
   "mimetype": "text/x-python",
   "name": "python",
   "nbconvert_exporter": "python",
   "pygments_lexer": "ipython3",
   "version": "3.5.4"
  }
 },
 "nbformat": 4,
 "nbformat_minor": 2
}
